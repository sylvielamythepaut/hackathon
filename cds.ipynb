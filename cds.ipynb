{
 "cells": [
  {
   "cell_type": "code",
   "execution_count": 1,
   "metadata": {},
   "outputs": [],
   "source": [
    "import xarray as xr\n",
    "from os import path\n",
    "from Magics import macro\n",
    "from ecmwf_utils import geoplot"
   ]
  },
  {
   "cell_type": "code",
   "execution_count": 2,
   "metadata": {},
   "outputs": [],
   "source": [
    "import cdsapi\n",
    "def cds(year, month, day):\n",
    "    data = '/tmp/2mt-%s-%s-%s.grib' % ( year, month, day ) \n",
    "    if path.exists(data) :\n",
    "        return data\n",
    "    cds_client = cdsapi.Client()\n",
    "    \n",
    "    cds_client.retrieve(\n",
    "        'reanalysis-era5-single-levels',\n",
    "        {\n",
    "            'product_type':'ensemble_members',\n",
    "            'format':'grib',\n",
    "            'variable':'2m_temperature',\n",
    "            'year':year,\n",
    "            'month': month,\n",
    "            'day': day,\n",
    "            'time':'12:00',\n",
    "            'format':'grib'\n",
    "        },\n",
    "        data)\n",
    "    return data"
   ]
  },
  {
   "cell_type": "code",
   "execution_count": 3,
   "metadata": {},
   "outputs": [
    {
     "name": "stderr",
     "output_type": "stream",
     "text": [
      "2019-07-03 16:25:34,833 INFO Sending request to https://cds.climate.copernicus.eu/api/v2/resources/reanalysis-era5-single-levels\n",
      "2019-07-03 16:25:35,419 INFO Request is queued\n",
      "2019-07-03 16:25:37,934 INFO Request is running\n",
      "2019-07-03 16:25:40,193 INFO Request is completed\n",
      "2019-07-03 16:25:40,194 INFO Downloading http://136.156.132.110/cache-compute-0001/cache/data0/adaptor.mars.internal-1562171137.628928-11942-11-aa9fb2b3-d1c4-4cf1-a401-405d84a9fb13.grib to /tmp/2mt-1980-3-15.grib (5M)\n",
      "2019-07-03 16:25:40,274 INFO Download rate 62.2M/s\n"
     ]
    },
    {
     "name": "stdout",
     "output_type": "stream",
     "text": [
      "/tmp/2mt-1980-3-15.grib\n"
     ]
    }
   ],
   "source": [
    "x = cds(1980, 3, 15)\n",
    "print (x)"
   ]
  },
  {
   "cell_type": "code",
   "execution_count": 4,
   "metadata": {},
   "outputs": [
    {
     "name": "stderr",
     "output_type": "stream",
     "text": [
      "2019-07-03 16:25:40,723 INFO generated new fontManager\n"
     ]
    },
    {
     "data": {
      "application/vnd.jupyter.widget-view+json": {
       "model_id": "5d8ad8f55c7b4f6c976586b3391549fd",
       "version_major": 2,
       "version_minor": 0
      },
      "text/plain": [
       "interactive(children=(IntSlider(value=1999, description='year', max=2018, min=1980), IntSlider(value=6, descri…"
      ]
     },
     "metadata": {},
     "output_type": "display_data"
    }
   ],
   "source": [
    "from IPython.display import clear_output\n",
    "from ipywidgets import interact\n",
    "@interact(year=(1980,2018), month=(1,12), day=(1,30))\n",
    "def cds_plot(year, month, day):\n",
    "    clear_output()\n",
    "    data = macro.mgrib(grib_input_file_name = cds(year, month, day))\n",
    "    return geoplot(data)"
   ]
  },
  {
   "cell_type": "code",
   "execution_count": null,
   "metadata": {},
   "outputs": [],
   "source": []
  },
  {
   "cell_type": "code",
   "execution_count": null,
   "metadata": {},
   "outputs": [],
   "source": []
  },
  {
   "cell_type": "code",
   "execution_count": null,
   "metadata": {},
   "outputs": [],
   "source": []
  },
  {
   "cell_type": "code",
   "execution_count": null,
   "metadata": {},
   "outputs": [],
   "source": []
  }
 ],
 "metadata": {
  "kernelspec": {
   "display_name": "Python 3",
   "language": "python",
   "name": "python3"
  },
  "language_info": {
   "codemirror_mode": {
    "name": "ipython",
    "version": 3
   },
   "file_extension": ".py",
   "mimetype": "text/x-python",
   "name": "python",
   "nbconvert_exporter": "python",
   "pygments_lexer": "ipython3",
   "version": "3.7.3"
  }
 },
 "nbformat": 4,
 "nbformat_minor": 2
}
