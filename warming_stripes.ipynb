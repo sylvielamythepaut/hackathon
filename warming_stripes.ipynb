{
 "cells": [
  {
   "cell_type": "code",
   "execution_count": 47,
   "metadata": {},
   "outputs": [],
   "source": [
    "import xarray as xr\n",
    "from ipywidgets import interact\n",
    "from Magics import macro as magics\n",
    "import requests"
   ]
  },
  {
   "cell_type": "code",
   "execution_count": 38,
   "metadata": {},
   "outputs": [],
   "source": [
    "anomalies = xr.open_dataset('anomalies.1980-2018.nc')"
   ]
  },
  {
   "cell_type": "code",
   "execution_count": 68,
   "metadata": {},
   "outputs": [
    {
     "data": {
      "text/plain": [
       "<Response [500]>"
      ]
     },
     "execution_count": 68,
     "metadata": {},
     "output_type": "execute_result"
    }
   ],
   "source": [
    "\n",
    "def cities(name):\n",
    "    r = requests.post(\"https://apps.ecmwf.int/backend/city-lookup/\", data= {\"name\" : name })\n",
    "    return r\n",
    "cities(\"lilia\")\n"
   ]
  },
  {
   "cell_type": "code",
   "execution_count": 63,
   "metadata": {},
   "outputs": [],
   "source": [
    "def get_stripes(minval, maxval):\n",
    "\n",
    "    \n",
    "    x = max(abs(minval), abs(maxval))\n",
    "    \n",
    "    val1 = -x\n",
    "    val2 = x\n",
    "    \n",
    "    stripes_red = [\"#67000D\", \"#A50F15\", \"#CB181D\", \"#EF3B2C\",\"#FB694A\", \"#FC9272\", \n",
    "               \"#FDBBA1\", \"#FEE0D2\"]\n",
    "    stripes_blue = [\"#DEEBF7\", \"#C6DBEF\", \"#9DCAE1\", \"#6CAED6\", \"#4292C6\",\n",
    "                  \"#2271B5\", \"#06519C\", \"#09306B\"]\n",
    "    \n",
    "    width = val2\n",
    "    step = width / (len(stripes_red) +1 )\n",
    "    \n",
    "    levels = []\n",
    "    for i in range(len(stripes_blue)):\n",
    "        levels.append(val1 + i *step)\n",
    "\n",
    "    width = val2\n",
    "    step = width / (len(stripes_red) +1)\n",
    "\n",
    "\n",
    "    for i in range(len(stripes_blue)):\n",
    "        levels.append(i *step)\n",
    "    levels.append(maxval)\n",
    "    \n",
    "     \n",
    "    stripes = stripes_red + stripes_blue\n",
    "    stripes = stripes[::-1]\n",
    "    return (levels, stripes)\n"
   ]
  },
  {
   "cell_type": "code",
   "execution_count": 40,
   "metadata": {},
   "outputs": [],
   "source": [
    "def graph(y, val, levels, stripes):\n",
    "    \n",
    "    colour = stripes[0]\n",
    "    for i, col in zip(levels, stripes):\n",
    "        if val < i:\n",
    "            break\n",
    "        colour = col\n",
    "    \n",
    "    data = magics.minput(input_x_values = [float(y)],\n",
    "                    input_y_values = [20.])\n",
    "    graph = magics.mgraph(graph_bar_colour = colour,\n",
    "                graph_bar_width = 1.,\n",
    "                graph_bar_line_colour = colour,\n",
    "                graph_type = \"bar\")\n",
    "    return (data, graph) "
   ]
  },
  {
   "cell_type": "code",
   "execution_count": 41,
   "metadata": {},
   "outputs": [],
   "source": [
    "def pixel(lat, lon):\n",
    "    x = ( lon /360 ) *4000\n",
    "    y =   2000 + (( (-90-lat)/180) * 2000)\n",
    "    return (x, y)"
   ]
  },
  {
   "cell_type": "code",
   "execution_count": 70,
   "metadata": {},
   "outputs": [
    {
     "data": {
      "application/vnd.jupyter.widget-view+json": {
       "model_id": "75bfb6d49fce4e1ea163e5979b7a5c74",
       "version_major": 2,
       "version_minor": 0
      },
      "text/plain": [
       "FloatSlider(value=0.0, description='Latitude', max=90.0, min=-90.0, step=0.25)"
      ]
     },
     "metadata": {},
     "output_type": "display_data"
    },
    {
     "data": {
      "application/vnd.jupyter.widget-view+json": {
       "model_id": "6793c341658b44e4841b98800659bd4f",
       "version_major": 2,
       "version_minor": 0
      },
      "text/plain": [
       "FloatSlider(value=0.0, description='Longitude', max=180.0, min=-180.0, step=0.25)"
      ]
     },
     "metadata": {},
     "output_type": "display_data"
    },
    {
     "data": {
      "application/vnd.jupyter.widget-view+json": {
       "model_id": "0570c4aae35a41ea8a0cca30c1d39041",
       "version_major": 2,
       "version_minor": 0
      },
      "text/plain": [
       "Text(value='', description='City')"
      ]
     },
     "metadata": {},
     "output_type": "display_data"
    },
    {
     "data": {
      "application/vnd.jupyter.widget-view+json": {
       "model_id": "98f66921a726425ba0798193df18db73",
       "version_major": 2,
       "version_minor": 0
      },
      "text/plain": [
       "Button(description='Get the Stripes', style=ButtonStyle())"
      ]
     },
     "metadata": {},
     "output_type": "display_data"
    },
    {
     "data": {
      "application/vnd.jupyter.widget-view+json": {
       "model_id": "90264f9fc8e14b309f9331047068dae2",
       "version_major": 2,
       "version_minor": 0
      },
      "text/plain": [
       "Output(layout=Layout(border='1px solid black', height='800px', width='1200px'))"
      ]
     },
     "metadata": {},
     "output_type": "display_data"
    }
   ],
   "source": [
    "#Setting the cartesian view\n",
    "def warming_stripe(lat, lon, text):\n",
    "    tlon = lon\n",
    "    if lon < 0 :\n",
    "        lon = lon + 360\n",
    "    x, y = pixel(lat, lon)\n",
    "    value = anomalies.sel(latitude=lat, longitude=lon)\n",
    "    projection = magics.mmap(subpage_map_projection = 'cartesian',\n",
    "                subpage_x_axis_type = 'regular',\n",
    "                subpage_y_length = 8.,\n",
    "                subpage_y_position = 12.,\n",
    "                subpage_x_length = 17.,\n",
    "                subpage_y_axis_type = 'regular',\n",
    "                subpage_y_min = 0.,\n",
    "                subpage_y_max = 20.,\n",
    "                subpage_x_min = 1979.5,\n",
    "                subpage_x_max = 2017.5)\n",
    "\n",
    "    #Vertical axis\n",
    "    vertical = magics.maxis(axis_orientation = \"vertical\",\n",
    "                     axis_grid =  \"on\",\n",
    "                     axis_tick_label =  \"off\",\n",
    "                     axis_tick =  \"off\",\n",
    "                     axis_grid_colour = \"grey\",\n",
    "                     axis_grid_thickness = 1,\n",
    "                     axis_grid_line_style = \"dot\")\n",
    "\n",
    "    #Horizontal axis\n",
    "    horizontal = magics.maxis(axis_orientation = \"horizontal\",\n",
    "                     axis_tick_label =  \"off\",\n",
    "                     axis_tick =  \"off\",\n",
    "                     axis_grid =  \"on\",\n",
    "                     axis_grid_colour = \"grey\",\n",
    "                     axis_grid_thickness = 1,\n",
    "                     axis_grid_line_style = \"dot\")\n",
    "\n",
    "\n",
    "    toplot = [projection, vertical, horizontal]\n",
    "    values = value.t2m.values\n",
    "    \n",
    "    maxvalue = max(value.t2m.values)\n",
    "    minvalue = min(value.t2m.values)\n",
    "    info = (\"lat/lon=%.2f/%.2f pixels=[%d/%d] min=%.2f max=%.2f\" % (lat, tlon, x, y, minvalue, maxvalue))\n",
    "    text = \"%s [%s]\" % (text, info)\n",
    "    title = magics.mtext(text_lines = [text])\n",
    "    levels, stripes = get_stripes(minvalue, maxvalue)\n",
    "    for i, val in zip(range(1980, 2019), value.t2m.values):\n",
    "        objects = graph(i, val, levels, stripes)\n",
    "        for o in objects:\n",
    "            toplot.append(o)\n",
    "    toplot.append(title)\n",
    "    out.clear_output()\n",
    "    with out:\n",
    "        display(magics.plot(toplot))\n",
    "\n",
    "        \n",
    "out = widgets.Output(layout={'border': '1px solid black', 'height':'800px', 'width':'1200px'})\n",
    "lat = widgets.FloatSlider(description='Latitude', min = -90, max = 90, step = 0.25)\n",
    "lon = widgets.FloatSlider(description='Longitude', min = -180, max = 180, step = 0.25)\n",
    "text = widgets.Text(description='City', value=\"\")\n",
    "apply = widgets.Button(description='Get the Stripes')\n",
    "\n",
    "\n",
    "def get_the_stripes(change):\n",
    "    print (change)\n",
    "    warming_stripe(lat.value, lon.value, text.value)\n",
    "\n",
    "apply.on_click(get_the_stripes)\n",
    "\n",
    "\n",
    "display(lat,lon, text, apply)\n",
    "display(out)"
   ]
  },
  {
   "cell_type": "code",
   "execution_count": null,
   "metadata": {},
   "outputs": [],
   "source": []
  },
  {
   "cell_type": "code",
   "execution_count": null,
   "metadata": {},
   "outputs": [],
   "source": []
  }
 ],
 "metadata": {
  "kernelspec": {
   "display_name": "Python 3",
   "language": "python",
   "name": "python3"
  },
  "language_info": {
   "codemirror_mode": {
    "name": "ipython",
    "version": 3
   },
   "file_extension": ".py",
   "mimetype": "text/x-python",
   "name": "python",
   "nbconvert_exporter": "python",
   "pygments_lexer": "ipython3",
   "version": "3.7.3"
  }
 },
 "nbformat": 4,
 "nbformat_minor": 2
}
