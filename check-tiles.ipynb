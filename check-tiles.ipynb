{
 "cells": [
  {
   "cell_type": "code",
   "execution_count": 1,
   "metadata": {},
   "outputs": [],
   "source": [
    "from Magics import macro as magics\n",
    "import xarray\n",
    "import json\n"
   ]
  },
  {
   "cell_type": "code",
   "execution_count": 2,
   "metadata": {},
   "outputs": [],
   "source": [
    "\n",
    "def coordinates(projection, z, x, y):\n",
    "        dataset = xarray.open_dataset(\"tiles/bbox-%s.nc\" % projection)        \n",
    "        zoom = \"bounding-box-%d\" % z\n",
    "        \n",
    "        dims = dataset[\"bounding-box-%d\" % z ].dims\n",
    "        box = dataset[\"bounding-box-%d\" % z ].isel({\"x%d\" % z : x, \"y%d\" %z : y} ).values\n",
    "    \n",
    "        return box\n"
   ]
  },
  {
   "cell_type": "code",
   "execution_count": 3,
   "metadata": {},
   "outputs": [
    {
     "data": {
      "text/plain": [
       "array([  0., -90., 180.,  90.])"
      ]
     },
     "execution_count": 3,
     "metadata": {},
     "output_type": "execute_result"
    }
   ],
   "source": [
    "coordinates(\"4326\", 1, 1, 0)"
   ]
  },
  {
   "cell_type": "code",
   "execution_count": 4,
   "metadata": {},
   "outputs": [],
   "source": [
    "\n",
    "def magics_plot(out, projection, z, x, y) :\n",
    "    \n",
    "    projections = {\n",
    "        \"4326\" : \"cylindrical\",\n",
    "        \n",
    "        \"32661\" : \"EPSG:32661\"\n",
    "    }\n",
    "    print(\"EPSG:%s\" % projection)\n",
    "    width = 512\n",
    "    cm = width/40\n",
    "    magics.version()\n",
    "    box = coordinates(projection, z,x,y)\n",
    "    print (box)\n",
    "    magics.silent()\n",
    "    tile=magics.mmap( \n",
    "                super_page_x_length = cm*2,\n",
    "\t\t\t\tsuper_page_y_length = cm,\n",
    "\t\t\t\tpage_x_length = cm,\n",
    "\t\t\t\tpage_y_length = cm,\n",
    "\t\t\t\tsubpage_x_length = cm,\n",
    "\t\t\t\tsubpage_y_length = cm,\n",
    "\t\t\t\tsubpage_x_position = 0.,\n",
    "\t\t\t\tsubpage_y_position = 0.,\n",
    "\t\t\t\tpage_frame=False,\n",
    "\t\t\t\tpage_id_line = False,\n",
    "\t\t\t\tsubpage_frame = True,\n",
    "                subpage_map_projection = projections[projection] , \n",
    "                subpage_coordinates_system = \"projection\",\n",
    "                subpage_lower_left_longitude = box[0],\n",
    "                subpage_lower_left_latitude = box[1],\n",
    "                subpage_upper_right_longitude = box[2],\n",
    "                subpage_upper_right_latitude = box[3]\n",
    "\t\t\t    )\n",
    "    notile=magics.mmap( \n",
    "\t\t\t\tpage_x_length = cm,\n",
    "\t\t\t\tpage_y_length = cm,\n",
    "                page_x_position = cm,\n",
    "\t\t\t\tsubpage_x_length = cm,\n",
    "\t\t\t\tsubpage_y_length = cm,\n",
    "\t\t\t\tsubpage_x_position = 0.,\n",
    "\t\t\t\tsubpage_y_position = 0.,\n",
    "\t\t\t\tpage_frame=False,\n",
    "\t\t\t\tpage_id_line = False,\n",
    "                subpage_map_projection = projections[projection], \n",
    "                subpage_coordinates_system = \"projection\",\n",
    "                subpage_lower_left_longitude = box[0],\n",
    "                subpage_lower_left_latitude = box[1],\n",
    "                subpage_upper_right_longitude = box[2],\n",
    "                subpage_upper_right_latitude = box[3]\n",
    "\t\t\t    )\n",
    "    data_tile = magics.mtile(grib_input_file_name = \"tempe.grib\", \n",
    "                        grib_tile_projection = \"EPSG:%s\" % projection,\n",
    "                        grib_tile_z = z, \n",
    "                        grib_tile_x = x, \n",
    "                        grib_tile_y = y)\n",
    "    \n",
    "    data_wind_tile = magics.mtile(grib_input_file_name = \"uv.grib\", \n",
    "                        grib_tile_projection = \"EPSG:%s\" % projection,\n",
    "                        grib_tile_z = z, \n",
    "                        grib_tile_x = x, \n",
    "                        grib_tile_y = y)\n",
    "    data = magics.mgrib(grib_input_file_name = \"tempe.grib\", \n",
    "                        )\n",
    "    \n",
    "    data_wind = magics.mgrib(grib_input_file_name = \"uv.grib\", \n",
    "                        )\n",
    "    wind = magics.mwind(  wind_thinning_factor = 25,\n",
    "                          wind_flag_origin_marker =  \"dot\",\n",
    "                          wind_flag_origin_marker_size =  0.1,\n",
    "                          wind_field_type =  \"flags\",\n",
    "                          wind_flag_colour = \"black\",\n",
    "                          wind_flag_length =  0.3)\n",
    "    contour = magics.mcont( {\"contour_level_selection_type\": \"interval\",\n",
    "                          \"contour_shade_colour_method\": \"list\",\n",
    "                          \"contour_legend_text\": \"Contour shade (Range: -48 / 56)\",\n",
    "                          \"contour_shade\": \"on\",\n",
    "                          \"contour_shade_max_level\": 56,\n",
    "                          \"contour_hilo\": \"off\",\n",
    "                          \"contour\": \"off\",\n",
    "                          \"contour_line_thickness\": 3,\n",
    "                          \"contour_label\": \"off\",\n",
    "                          \"grib_missing_value_indicator\": 9999,\n",
    "                          \"contour_shade_method\": \"area_fill\",\n",
    "                          \"contour_shade_min_level\": -48,\n",
    "                          \"contour_interval\": 4,\n",
    "                          \"contour_shade_colour_list\": [\"rgb(0,0,0.5)\", \"rgb(0,0,0.5)\", \n",
    "                                                        \"rgb(0,0,0.5)\", \"rgb(0,0,0.5)\", \n",
    "                                                        \"rgb(0,0,0.5)\", \"rgb(0,0,0.85)\", \n",
    "                                                        \"rgb(0.25,0,1)\", \"blue_purple\", \n",
    "                                                        \"greenish_blue\", \"blue_green\", \"bluish_green\",\n",
    "                                                        \"yellow_green\", \"greenish_yellow\", \"yellow\", \n",
    "                                                        \"orangish_yellow\", \"orange_yellow\", \n",
    "                                                        \"yellowish_orange\", \"orange\", \"reddish_orange\", \n",
    "                                                        \"red_orange\", \"orangish_red\", \"red\", \n",
    "                                                        \"magenta\", \"magenta\", \"magenta\", \"magenta\", \n",
    "                                                        \"magenta\" ]} )\n",
    "    \n",
    "    coast = magics.mcoast(map_coastline_colour = \"black\",\n",
    "                map_grid =  \"on\", \n",
    "                map_grid_colour = \"grey\", \n",
    "                map_label  =\"off\")\n",
    "    out.clear_output()\n",
    "    with out:\n",
    "        display(magics.plot(tile, data_tile, contour, data_wind_tile, wind, coast, magics.page(),\n",
    "                       notile, data, contour, data_wind, wind, coast))\n",
    "        \n",
    "    \n"
   ]
  },
  {
   "cell_type": "code",
   "execution_count": 5,
   "metadata": {
    "scrolled": false
   },
   "outputs": [
    {
     "data": {
      "application/vnd.jupyter.widget-view+json": {
       "model_id": "f3ec191e6f0c4fcfb19973219a41f869",
       "version_major": 2,
       "version_minor": 0
      },
      "text/plain": [
       "Dropdown(description='Projection', options=('32661', '4326'), value='32661')"
      ]
     },
     "metadata": {},
     "output_type": "display_data"
    },
    {
     "data": {
      "application/vnd.jupyter.widget-view+json": {
       "model_id": "0dd708a472c3415abb0a359774caec0a",
       "version_major": 2,
       "version_minor": 0
      },
      "text/plain": [
       "IntSlider(value=1, description='Zoom level', max=6, min=1)"
      ]
     },
     "metadata": {},
     "output_type": "display_data"
    },
    {
     "data": {
      "application/vnd.jupyter.widget-view+json": {
       "model_id": "e086baa65aa1472fb3b2eb6c43cbb896",
       "version_major": 2,
       "version_minor": 0
      },
      "text/plain": [
       "IntSlider(value=0, description='X')"
      ]
     },
     "metadata": {},
     "output_type": "display_data"
    },
    {
     "data": {
      "application/vnd.jupyter.widget-view+json": {
       "model_id": "51ac72fa6d6041719b36f4fa79f532fb",
       "version_major": 2,
       "version_minor": 0
      },
      "text/plain": [
       "IntSlider(value=0, description='Y')"
      ]
     },
     "metadata": {},
     "output_type": "display_data"
    },
    {
     "data": {
      "application/vnd.jupyter.widget-view+json": {
       "model_id": "2c789a1cdbdb4d7a88ce86b50a4cdf13",
       "version_major": 2,
       "version_minor": 0
      },
      "text/plain": [
       "Output(layout=Layout(border='1px solid black', height='800px', width='1200px'))"
      ]
     },
     "metadata": {},
     "output_type": "display_data"
    }
   ],
   "source": [
    "\n",
    "import ipywidgets as widgets\n",
    "\n",
    "projections = {\"32661\" : {}, \"4326\" : {} }\n",
    "zooms = []\n",
    "\n",
    "\n",
    "\n",
    "for p in projections:\n",
    "    \n",
    "    dataset = xarray.open_dataset(\"tiles/bbox-%s.nc\" % p)\n",
    "    zooms = dataset[\"zooms\"].values\n",
    "    \n",
    "    for z in zooms:        \n",
    "        x = dataset[\"x%d\" % z ].values\n",
    "        y = dataset[ \"y%d\" % z ].values        \n",
    "        projections[p][\"zoom-level-%d\" % z] = { \"x\" : x, \"y\" : y}\n",
    "\n",
    "\n",
    "\n",
    "\n",
    "#dir(widgets)\n",
    "\n",
    "\n",
    "out = widgets.Output(layout={'border': '1px solid black', 'height':'800px', 'width':'1200px'})\n",
    "projection = widgets.Dropdown(description='Projection', labels = [\"xx\", \"YY\"], options= projections.keys())\n",
    "zoom = widgets.IntSlider(description='Zoom level', min =1, max =6)\n",
    "x = widgets.IntSlider(description='X')\n",
    "y = widgets.IntSlider(description='Y')\n",
    "\n",
    "\n",
    "def change_projection(change):\n",
    "    x.min = projections[change.new]['zoom-level-%d' % zoom.value][\"x\"][0]\n",
    "    x.max = projections[change.new]['zoom-level-%d' % zoom.value][\"x\"][-1]\n",
    "    y.min = projections[change.new]['zoom-level-%d' % zoom.value][\"y\"][0]\n",
    "    y.max = projections[change.new]['zoom-level-%d' % zoom.value][\"y\"][-1]\n",
    "\n",
    "def change_zoom(change):\n",
    "    x.min = projections[projection.value]['zoom-level-%d' % change.new][\"x\"][0]\n",
    "    x.max = projections[projection.value]['zoom-level-%d' % change.new][\"x\"][-1]\n",
    "    y.min = projections[projection.value]['zoom-level-%d' % change.new][\"y\"][0]\n",
    "    y.max = projections[projection.value]['zoom-level-%d' % change.new][\"y\"][-1]\n",
    "    \n",
    "projection.observe(change_projection, names='value')\n",
    "zoom.observe(change_zoom, names='value')\n",
    "\n",
    "\n",
    "def plot_projection(change):\n",
    "    magics_plot(out, change.new, zoom.value, x.value, y.value)\n",
    "\n",
    "def plot_zoom(change):\n",
    "    magics_plot(out, projection.value, change.new, x.value, y.value)\n",
    "\n",
    "def plot_x(change):\n",
    "    magics_plot(out, projection.value, zoom.value, change.new, y.value)\n",
    "\n",
    "def plot_y(change):\n",
    "    magics_plot(out, projection.value, zoom.value, x.value, change.new)\n",
    "    \n",
    "projection.observe(plot_projection, names='value')\n",
    "zoom.observe(plot_zoom, names='value')\n",
    "x.observe(plot_x, names='value')\n",
    "y.observe(plot_y, names='value')\n",
    "\n",
    "\n",
    "display(projection, zoom, x, y)\n",
    "display(out)\n",
    "\n"
   ]
  },
  {
   "cell_type": "markdown",
   "metadata": {
    "slideshow": {
     "slide_type": "-"
    }
   },
   "source": []
  },
  {
   "cell_type": "code",
   "execution_count": null,
   "metadata": {},
   "outputs": [],
   "source": []
  },
  {
   "cell_type": "code",
   "execution_count": null,
   "metadata": {
    "scrolled": true
   },
   "outputs": [],
   "source": []
  }
 ],
 "metadata": {
  "kernelspec": {
   "display_name": "Python 3",
   "language": "python",
   "name": "python3"
  },
  "language_info": {
   "codemirror_mode": {
    "name": "ipython",
    "version": 3
   },
   "file_extension": ".py",
   "mimetype": "text/x-python",
   "name": "python",
   "nbconvert_exporter": "python",
   "pygments_lexer": "ipython3",
   "version": "3.7.0"
  }
 },
 "nbformat": 4,
 "nbformat_minor": 2
}
