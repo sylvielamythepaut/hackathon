{
 "cells": [
  {
   "cell_type": "code",
   "execution_count": 14,
   "metadata": {},
   "outputs": [],
   "source": [
    "import requests\n",
    "from ecmwf_utils import time_series\n",
    "from ecmwf_utils import xyplot\n",
    "import ipywidgets as widgets\n"
   ]
  },
  {
   "cell_type": "code",
   "execution_count": 15,
   "metadata": {},
   "outputs": [
    {
     "data": {
      "application/vnd.jupyter.widget-view+json": {
       "model_id": "e02b6b5092e849ae966bbd4298a546c8",
       "version_major": 2,
       "version_minor": 0
      },
      "text/plain": [
       "FloatSlider(value=0.0, description='Latitude', max=90.0, min=-90.0)"
      ]
     },
     "metadata": {},
     "output_type": "display_data"
    },
    {
     "data": {
      "application/vnd.jupyter.widget-view+json": {
       "model_id": "f93271988313422fb57443b7eac81090",
       "version_major": 2,
       "version_minor": 0
      },
      "text/plain": [
       "FloatSlider(value=0.0, description='Longitude', max=180.0, min=-180.0)"
      ]
     },
     "metadata": {},
     "output_type": "display_data"
    },
    {
     "data": {
      "application/vnd.jupyter.widget-view+json": {
       "model_id": "2c57f0342bb74ea7a1cdf54ef910ad8d",
       "version_major": 2,
       "version_minor": 0
      },
      "text/plain": [
       "Output(layout=Layout(border='1px solid black', height='800px', width='1200px'))"
      ]
     },
     "metadata": {},
     "output_type": "display_data"
    }
   ],
   "source": [
    "\n",
    "def plot_time_series(lat, lon, out):\n",
    "    tlon = lon\n",
    "    if lon < 0:\n",
    "        lon = lon + 360\n",
    "    data = time_series(lat, lon)\n",
    "    return xyplot(data['x'], data['y'], \"Time series for %d/%d\" % ( lat, tlon), where = out )\n",
    "\n",
    "\n",
    "out = widgets.Output(layout={'border': '1px solid black', 'height':'800px', 'width':'1200px'})\n",
    "lat = widgets.FloatSlider(description='Latitude', min = -90, max = 90)\n",
    "lon = widgets.FloatSlider(description='Longitude', min = -180, max = 180)\n",
    "display(lat, lon)\n",
    "display(out)\n",
    "def update(change):\n",
    "    plot_time_series(lat.value, lon.value, out)\n",
    "    \n",
    "lat.observe(update, names='value')\n",
    "lon.observe(update, names='value')"
   ]
  },
  {
   "cell_type": "code",
   "execution_count": null,
   "metadata": {},
   "outputs": [],
   "source": []
  },
  {
   "cell_type": "code",
   "execution_count": null,
   "metadata": {},
   "outputs": [],
   "source": []
  }
 ],
 "metadata": {
  "kernelspec": {
   "display_name": "Python 3",
   "language": "python",
   "name": "python3"
  },
  "language_info": {
   "codemirror_mode": {
    "name": "ipython",
    "version": 3
   },
   "file_extension": ".py",
   "mimetype": "text/x-python",
   "name": "python",
   "nbconvert_exporter": "python",
   "pygments_lexer": "ipython3",
   "version": "3.7.3"
  }
 },
 "nbformat": 4,
 "nbformat_minor": 2
}
